{
 "cells": [
  {
   "cell_type": "markdown",
   "metadata": {},
   "source": [
    "# Machine Learning Homework 01 – Report\n",
    "\n",
    "## 1. Solution\n",
    "\n",
    "There were two problems to solve (problem 1 and problem 2). The first problem required implementing two functions to compute the pairwise distance matrix $Z$ of a random matrix $X$:\n",
    "\n",
    "1. A function using a two-level nested loop, iterating through all pairs $(i,j)$ and computing the corresponding entry $Z_{i,j}$\n",
    "\n",
    "2. A function using numpy matrix operations"
   ]
  },
  {
   "cell_type": "code",
   "execution_count": null,
   "metadata": {},
   "outputs": [],
   "source": []
  }
 ],
 "metadata": {
  "kernelspec": {
   "display_name": "Python 3",
   "language": "python",
   "name": "python3"
  },
  "language_info": {
   "codemirror_mode": {
    "name": "ipython",
    "version": 3
   },
   "file_extension": ".py",
   "mimetype": "text/x-python",
   "name": "python",
   "nbconvert_exporter": "python",
   "pygments_lexer": "ipython3",
   "version": "3.8.3"
  }
 },
 "nbformat": 4,
 "nbformat_minor": 4
}
